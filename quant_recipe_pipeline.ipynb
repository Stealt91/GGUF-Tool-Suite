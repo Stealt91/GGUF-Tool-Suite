{
 "cells": [
  {
   "cell_type": "markdown",
   "metadata": {},
   "source": [
    "# Recipe Pipeline\n",
    "Configure your paths & regex flags below, then run all cells ▶️"
   ]
  },
  {
   "cell_type": "code",
   "execution_count": null,
   "metadata": {
    "id": "params"
   },
   "outputs": [],
   "source": [
    "# @title ⚙️ Pipeline Parameters\n",
    "repo_url = \"https://github.com/Thireus/GGUF-Tool-Suite.git\"         #@param {type:\"string\"}\n",
    "model_name = \"recipe_examples/DeepSeek-R1-0528\"                     #@param {type:\"string\"}\n",
    "model_link = \"https://huggingface.co/deepseek-ai/DeepSeek-R1-0528\"  #@param {type:\"string\"}\n",
    "csv_file = \"ppl_results.csv\"                                        #@param {type:\"string\"}\n",
    "\n",
    "# regex lists (as Python lists of strings)\n",
    "gpu_tensors = [r\".*\",]                                                                                                                                                           #@param {type:\"raw\"}\n",
    "cpu_tensors = [r\"blk\\.([3-9]|[1-5][0-9]|60)\\.ffn_down_exps\\.weight\", r\"blk\\.([3-9]|[1-5][0-9]|60)\\.ffn_up_exps\\.weight\", r\"blk\\.([3-9]|[1-5][0-9]|60)\\.ffn_gate_exps\\.weight\",]  #@param {type:\"raw\"}\n",
    "\n",
    "# quant types\n",
    "cpu_quants = [\"iq4_ks\", \"iq3_k\", \"iq2_k\", \"iq1_m_r4\"]   #@param {type:\"raw\"}\n",
    "gpu_quants = [\"q8_0\", \"iq5_k_r4\", \"iq6_k\"]              #@param {type:\"raw\"}\n",
    "\n",
    "# sizes & tuning\n",
    "cpu_tensors_max_size = 230      #@param {type:\"integer\"}\n",
    "gpu_tensors_max_size = \"95%\"    #@param {type:\"string\"}\n",
    "tolerance = 0.01                #@param {type:\"number\"}\n",
    "exponential_factor = 8          #@param {type:\"integer\"}\n",
    "\n",
    "# assignment override\n",
    "gpu_assign_qtype = \"iq4_xs\"                                                 #@param {type:\"string\"}\n",
    "gpu_assign_tensors = [r\"blk\\.([0-9]|[1-5][0-9]|60)\\.attn_k_b\\.weight=q8_0\",] #@param {type:\"raw\"}\n"
   ]
  },
  {
   "cell_type": "code",
   "execution_count": null,
   "metadata": {},
   "outputs": [],
   "source": [
    "# Clone and cd into the tool suite\n",
    "!git clone {repo_url} && cd GGUF-Tool-Suite"
   ]
  },
  {
   "cell_type": "code",
   "execution_count": null,
   "metadata": {},
   "outputs": [],
   "source": [
    "# Build up all the CLI flags from our params\n",
    "import shlex, subprocess\n",
    "\n",
    "def join_list(flag, items):\n",
    "    return \" \".join(f\"--{flag} {shlex.quote(it)}\" for it in items)\n",
    "\n",
    "base_cmd = [\n",
    "    \"python\", \"quant_assign.py\", csv_file,\n",
    "]\n",
    "flags = []\n",
    "flags += [f\"--cpu-tensors-max-size {cpu_tensors_max_size}\"]\n",
    "flags += [f\"--gpu-tensors-max-size {gpu_tensors_max_size}\"]\n",
    "flags += [f\"--tolerance {tolerance}\"]\n",
    "flags += [f\"--exponential-factor {exponential_factor}\"]\n",
    "\n",
    "flags += join_list(\"gpu-tensors\", gpu_tensors).split()\n",
    "flags += join_list(\"cpu-tensors\", cpu_tensors).split()\n",
    "flags += join_list(\"cpu-quants\", cpu_quants).split()\n",
    "flags += join_list(\"gpu-quants\", gpu_quants).split()\n",
    "flags += [f\"--gpu-assign-qtype {gpu_assign_qtype}\"]\n",
    "flags += join_list(\"gpu-assign-tensors\", gpu_assign_tensors).split()\n",
    "\n",
    "# run quant_assign.py and pipe into merger script\n",
    "cmd = base_cmd + flags\n",
    "\n",
    "# 1. Run quant_assign.py and capture its stdout\n",
    "result = subprocess.run(cmd, capture_output=True, text=True)\n",
    "if result.returncode != 0:\n",
    "    print(\"quant_assign.py failed:\", result.stderr)\n",
    "    raise SystemExit(1)\n",
    "\n",
    "# 2. Feed that output into quants_regex_merger.sh\n",
    "merge_cmd = [\n",
    "    \"bash\", \"./quants_regex_merger.sh\",\n",
    "    \"--model-name\", model_name,\n",
    "    \"--add-ppl\", \"0\",\n",
    "    \"--model-link\", model_link\n",
    "]\n",
    "merge = subprocess.run(merge_cmd, input=result.stdout, text=True)\n",
    "if merge.returncode != 0:\n",
    "    print(\"quants_regex_merger.sh failed\")\n",
    "    raise SystemExit(1)"
   ]
  }
 ],
 "metadata": {
  "kernelspec": {
   "display_name": "Python 3",
   "language": "python",
   "name": "python3"
  }
 },
 "nbformat": 4,
 "nbformat_minor": 5
}

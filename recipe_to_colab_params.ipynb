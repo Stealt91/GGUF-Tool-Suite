{
  "cells": [
    {
      "cell_type": "markdown",
      "id": "45ed3e2d",
      "metadata": {},
      "source": [
        "# Recipe → Colab Parameters\n",
        "\n",
        "**What this notebook does**\n",
        "- Clone `GGUF-Tool-Suite`, accept a `.recipe` upload, run `recipe_to_colab_params.py` and **display** the resulting Colab pipeline parameters in the notebook output.\n",
        "\n",
        "**Quick steps**\n",
        "1. Run cells in order: **Clone**, **Upload**, **Run**.\n",
        "2. Upload a `.recipe` file when prompted.\n",
        "3. View the generated pipeline parameters in the output of the **Run** cell.\n",
        "\n",
        "**Note:** The produced pipeline parameters are intended to be used with [quant_recipe_pipeline.ipynb on Colab](\n",
        "https://colab.research.google.com/github/Thireus/GGUF-Tool-Suite/blob/main/quant_recipe_pipeline.ipynb).\n",
        "\n",
        "**Aim & caveats:** This tool attempts to convert a `.recipe` into a Colab parameter list that can reproduce (or improve) recipes using newer versions of `quant_assign.py`. It is experimental — parsing errors can occur, so please check the output before using it."
      ]
    },
    {
      "cell_type": "code",
      "execution_count": null,
      "id": "ee62d983",
      "metadata": {
        "colab": {
          "base_uri": "https://localhost/"
        }
      },
      "outputs": [],
      "source": [
        "%%bash\n",
        "set -e\n",
        "REPO=\"https://github.com/Thireus/GGUF-Tool-Suite.git\"\n",
        "DIR=\"GGUF-Tool-Suite\"\n",
        "echo \"Removing any existing $DIR (if present)...\"\n",
        "rm -rf \"$DIR\"\n",
        "echo \"Cloning $REPO ...\"\n",
        "git clone \"$REPO\" \"$DIR\"\n",
        "echo \"Repository cloned into $DIR\"\n"
      ]
    },
    {
      "cell_type": "code",
      "execution_count": null,
      "id": "40c2cd1c",
      "metadata": {},
      "outputs": [],
      "source": [
        "from google.colab import files\n",
        "print(\"Upload a .recipe file (file must end with .recipe)\")\n",
        "uploaded = files.upload()\n",
        "if not uploaded:\n",
        "    raise SystemExit(\"No file uploaded.\")\n",
        "fname = next(iter(uploaded))\n",
        "if not fname.lower().endswith(\".recipe\"):\n",
        "    raise SystemExit(\"Uploaded file does not have a .recipe extension: \" + fname)\n",
        "print(\"Uploaded:\", fname)\n"
      ]
    },
    {
      "cell_type": "code",
      "execution_count": null,
      "id": "38cd3240",
      "metadata": {},
      "outputs": [],
      "source": [
        "# Run recipe_to_colab_params.py from the cloned repository on the uploaded .recipe file.\n",
        "# Display the generated Python parameters snippet in the notebook output.\n",
        "import os, subprocess, shlex, sys\n",
        "from IPython.display import display, Markdown\n",
        "\n",
        "try:\n",
        "    fname  # must be set by upload cell\n",
        "except NameError:\n",
        "    raise SystemExit(\"fname not found. Did you run the upload cell?\")\n",
        "\n",
        "repo_dir = \"GGUF-Tool-Suite\"\n",
        "script_path = os.path.join(repo_dir, \"recipe_to_colab_params.py\")\n",
        "if not os.path.exists(script_path):\n",
        "    raise SystemExit(f\"Cannot find recipe_to_colab_params.py at {script_path}\")\n",
        "\n",
        "outfile = fname + \".colab_params.py\"\n",
        "cmd = f\"python3 {shlex.quote(script_path)} {shlex.quote(fname)} -o {shlex.quote(outfile)}\"\n",
        "print(\"Running:\", cmd)\n",
        "proc = subprocess.run(cmd, shell=True, capture_output=True, text=True)\n",
        "print(proc.stdout)\n",
        "if proc.returncode != 0:\n",
        "    print(proc.stderr, file=sys.stderr)\n",
        "    raise SystemExit(f\"Script failed with exit code {proc.returncode}\")\n",
        "\n",
        "print(\"\\nGenerated parameters file:\", outfile)\n",
        "# Read and display the content neatly\n",
        "with open(outfile, \"r\", encoding=\"utf-8\") as f:\n",
        "    content = f.read()\n",
        "\n",
        "# Display as a Python code block for easy copying\n",
        "display(Markdown(\"**Colab pipeline parameters produced:**\"))\n",
        "display(Markdown(f\"```python\\n{content}\\n```\"))\n"
      ]
    }
  ],
  "metadata": {
    "colab": {
      "authorship_tag": "ABX9TyM0VQ==",
      "name": "Recipe → Colab Parameters (Display)",
      "provenance": []
    },
    "kernelspec": {
      "display_name": "Python 3",
      "name": "python3"
    },
    "language_info": {
      "name": "python",
      "version": "3.10"
    }
  },
  "nbformat": 4,
  "nbformat_minor": 5
}
